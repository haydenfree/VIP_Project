{
 "cells": [
  {
   "cell_type": "code",
   "execution_count": 4,
   "id": "c6cf675d",
   "metadata": {},
   "outputs": [
    {
     "name": "stdout",
     "output_type": "stream",
     "text": [
      "1\n",
      "2\n",
      "3\n",
      "4\n",
      "5\n",
      "6\n",
      "7\n",
      "8\n",
      "9\n",
      "10\n"
     ]
    }
   ],
   "source": [
    "function main()\n",
    "    print_numbers() # Call print nums to print numbers 1-10\n",
    "end\n",
    "\n",
    "function print_numbers() # define print numbers function\n",
    "    nums = [1,2,3,4,5,6,7,8,9,10]\n",
    "    for num in nums\n",
    "        println(num)\n",
    "    end\n",
    "end\n",
    "function odd_or_even(n)\n",
    "    if n % 2 == 0\n",
    "        return \"even\"\n",
    "    else\n",
    "        return \"odd\"\n",
    "    end\n",
    "end\n",
    "\n",
    "main() # Call main function"
   ]
  },
  {
   "cell_type": "code",
   "execution_count": 5,
   "id": "85b5f329",
   "metadata": {},
   "outputs": [
    {
     "data": {
      "text/plain": [
       "odd_or_even (generic function with 1 method)"
      ]
     },
     "execution_count": 5,
     "metadata": {},
     "output_type": "execute_result"
    }
   ],
   "source": [
    "odd_or_even"
   ]
  },
  {
   "cell_type": "code",
   "execution_count": 6,
   "id": "8b1fff85",
   "metadata": {},
   "outputs": [
    {
     "data": {
      "text/plain": [
       "\"odd\""
      ]
     },
     "execution_count": 6,
     "metadata": {},
     "output_type": "execute_result"
    }
   ],
   "source": [
    "odd_or_even(3)"
   ]
  },
  {
   "cell_type": "code",
   "execution_count": null,
   "id": "d0a28771",
   "metadata": {},
   "outputs": [],
   "source": []
  }
 ],
 "metadata": {
  "kernelspec": {
   "display_name": "Julia 1.8.5",
   "language": "julia",
   "name": "julia-1.8"
  },
  "language_info": {
   "file_extension": ".jl",
   "mimetype": "application/julia",
   "name": "julia",
   "version": "1.8.5"
  }
 },
 "nbformat": 4,
 "nbformat_minor": 5
}
